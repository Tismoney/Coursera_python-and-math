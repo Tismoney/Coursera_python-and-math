{
 "cells": [
  {
   "cell_type": "code",
   "execution_count": 33,
   "metadata": {
    "collapsed": false,
    "scrolled": true
   },
   "outputs": [],
   "source": [
    "file = open('cat.tsv', 'r')\n",
    "import re\n",
    "n = d = 0\n",
    "dic = dict()\n",
    "for line in file:\n",
    "    line = line.lower()\n",
    "    for word in re.split(r'[ /^$<>\"()-.,\\n\\d\\s\\b]', line):\n",
    "        if not word in dic:\n",
    "            if word != '':\n",
    "                dic[word] = d\n",
    "                d += 1\n",
    "    n += 1\n",
    "file.close()"
   ]
  },
  {
   "cell_type": "code",
   "execution_count": 34,
   "metadata": {
    "collapsed": false
   },
   "outputs": [],
   "source": [
    "import numpy as np\n",
    "matr = np.zeros((n, d))\n",
    "i = 0\n",
    "file = open('cat.tsv', 'r')\n",
    "for line in file:\n",
    "    line = line.lower()\n",
    "    j = 0;\n",
    "    for key in dic.keys():\n",
    "        s = 0\n",
    "        for word in re.split(r'[ /^$<>\"().,\\n\\d\\s]', line):\n",
    "            if key == word: s += 1\n",
    "        matr[i, j] = s\n",
    "        j += 1\n",
    "    i += 1"
   ]
  },
  {
   "cell_type": "code",
   "execution_count": 35,
   "metadata": {
    "collapsed": false
   },
   "outputs": [],
   "source": [
    "mass = range(0, n)\n",
    "import scipy.spatial\n",
    "for i in range(n):\n",
    "    mass[i] = scipy.spatial.distance.cosine(matr[0, :], matr[i, : ])\n",
    "mass[0] = 1"
   ]
  },
  {
   "cell_type": "code",
   "execution_count": 36,
   "metadata": {
    "collapsed": false
   },
   "outputs": [],
   "source": [
    "file = open('submission-1.txt', 'w')\n",
    "for i in range(2):\n",
    "    p = mass.index(min(mass))\n",
    "    file.write(str(p) + ' ' + str(round(min(mass),2)) + '\\n')\n",
    "    mass[p] = 1\n",
    "file.close()"
   ]
  },
  {
   "cell_type": "code",
   "execution_count": null,
   "metadata": {
    "collapsed": true
   },
   "outputs": [],
   "source": []
  }
 ],
 "metadata": {
  "anaconda-cloud": {},
  "kernelspec": {
   "display_name": "Python [Root]",
   "language": "python",
   "name": "Python [Root]"
  },
  "language_info": {
   "codemirror_mode": {
    "name": "ipython",
    "version": 2
   },
   "file_extension": ".py",
   "mimetype": "text/x-python",
   "name": "python",
   "nbconvert_exporter": "python",
   "pygments_lexer": "ipython2",
   "version": "2.7.12"
  }
 },
 "nbformat": 4,
 "nbformat_minor": 0
}
