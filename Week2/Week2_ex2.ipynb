{
 "cells": [
  {
   "cell_type": "code",
   "execution_count": 98,
   "metadata": {
    "collapsed": false
   },
   "outputs": [],
   "source": [
    "from math import sin\n",
    "from math import exp\n",
    "def f(x):\n",
    "    return sin(x/5.0)* exp(x/10.0) + 5*exp(-x/2.0)"
   ]
  },
  {
   "cell_type": "code",
   "execution_count": 99,
   "metadata": {
    "collapsed": false
   },
   "outputs": [],
   "source": [
    "def st(x, n):\n",
    "    return [ x ** i for i in range(n+1)]"
   ]
  },
  {
   "cell_type": "markdown",
   "metadata": {},
   "source": [
    "Многочлен 1-ой степени"
   ]
  },
  {
   "cell_type": "code",
   "execution_count": 100,
   "metadata": {
    "collapsed": false
   },
   "outputs": [
    {
     "name": "stdout",
     "output_type": "stream",
     "text": [
      "[[ 1  1]\n",
      " [ 1 15]] [ 3.25221687  0.63522142] [ 3.43914511 -0.18692825]\n"
     ]
    }
   ],
   "source": [
    "import numpy as np\n",
    "a = np.array([st(1, 1), st(15,1)])\n",
    "b = np.array([f(1), f(15)])\n",
    "x = np.linalg.solve(a, b)\n",
    "print a, b, x"
   ]
  },
  {
   "cell_type": "markdown",
   "metadata": {},
   "source": [
    "Многочлен 2-ой степени"
   ]
  },
  {
   "cell_type": "code",
   "execution_count": 101,
   "metadata": {
    "collapsed": false
   },
   "outputs": [
    {
     "name": "stdout",
     "output_type": "stream",
     "text": [
      "[[  1   1   1]\n",
      " [  1   8  64]\n",
      " [  1  15 225]] [ 3.25221687  2.31617016  0.63522142] [ 3.32512949 -0.06531159 -0.00760104]\n"
     ]
    }
   ],
   "source": [
    "a = np.array([st(1, 2), st(8, 2), st(15,2)])\n",
    "b = np.array([f(1), f(8), f(15)])\n",
    "x = np.linalg.solve(a, b)\n",
    "print a, b, x"
   ]
  },
  {
   "cell_type": "markdown",
   "metadata": {},
   "source": [
    "Многочлен 3 степени"
   ]
  },
  {
   "cell_type": "code",
   "execution_count": 102,
   "metadata": {
    "collapsed": false
   },
   "outputs": [
    {
     "name": "stdout",
     "output_type": "stream",
     "text": [
      "[[   1    1    1    1]\n",
      " [   1    4   16   64]\n",
      " [   1   10  100 1000]\n",
      " [   1   15  225 3375]] [ 3.25221687  1.74684595  2.50541641  0.63522142] [ 4.36264154 -1.29552587  0.19333685 -0.00823565]\n"
     ]
    }
   ],
   "source": [
    "a = np.array([st(1, 3), st(4, 3), st(10, 3), st(15,3)])\n",
    "b = np.array([f(1), f(4), f(10), f(15)])\n",
    "x = np.linalg.solve(a, b)\n",
    "print a, b, x"
   ]
  },
  {
   "cell_type": "code",
   "execution_count": 103,
   "metadata": {
    "collapsed": false
   },
   "outputs": [],
   "source": [
    "file = open('submisson-2.txt', 'a')\n",
    "for i in range(3):\n",
    "    file.write(str(round(x[i], 2)))\n",
    "    file.write(' ')\n",
    "file.write(str(round(x[3], 2)))\n",
    "file.close()"
   ]
  },
  {
   "cell_type": "code",
   "execution_count": null,
   "metadata": {
    "collapsed": true
   },
   "outputs": [],
   "source": []
  }
 ],
 "metadata": {
  "kernelspec": {
   "display_name": "Python [Root]",
   "language": "python",
   "name": "Python [Root]"
  },
  "language_info": {
   "codemirror_mode": {
    "name": "ipython",
    "version": 2
   },
   "file_extension": ".py",
   "mimetype": "text/x-python",
   "name": "python",
   "nbconvert_exporter": "python",
   "pygments_lexer": "ipython2",
   "version": "2.7.12"
  }
 },
 "nbformat": 4,
 "nbformat_minor": 0
}
